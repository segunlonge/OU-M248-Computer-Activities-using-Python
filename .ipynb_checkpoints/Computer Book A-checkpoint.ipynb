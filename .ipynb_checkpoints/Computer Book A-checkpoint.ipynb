{
 "cells": [
  {
   "cell_type": "markdown",
   "id": "dbacc7fe-194e-4ad6-ac69-6b7fa5b76771",
   "metadata": {},
   "source": [
    "##  Computer Book A"
   ]
  },
  {
   "cell_type": "markdown",
   "id": "c5726de2-ba57-4005-a310-7d37c8c61ef5",
   "metadata": {},
   "source": [
    "These series of codes here illustrate using python the various exercises from the OU course M248 Analysing Data. The exercises were originally written to be carried out using Minitab statistical software but those exercises have been re-done in Python below"
   ]
  },
  {
   "cell_type": "markdown",
   "id": "7c823d39-1f7d-4f33-84c9-7d11db405383",
   "metadata": {},
   "source": [
    "## Computer activity 4: Quality of tattoo removal"
   ]
  },
  {
   "cell_type": "code",
   "execution_count": null,
   "id": "32154e49-5b23-4423-97a4-530a5b48ed75",
   "metadata": {},
   "outputs": [],
   "source": []
  }
 ],
 "metadata": {
  "kernelspec": {
   "display_name": "Python 3 (ipykernel)",
   "language": "python",
   "name": "python3"
  },
  "language_info": {
   "codemirror_mode": {
    "name": "ipython",
    "version": 3
   },
   "file_extension": ".py",
   "mimetype": "text/x-python",
   "name": "python",
   "nbconvert_exporter": "python",
   "pygments_lexer": "ipython3",
   "version": "3.12.7"
  }
 },
 "nbformat": 4,
 "nbformat_minor": 5
}
